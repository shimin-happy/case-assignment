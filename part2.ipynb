{
 "cells": [
  {
   "cell_type": "markdown",
   "id": "bf63d32a",
   "metadata": {},
   "source": [
    "# Part 2\n",
    "\n",
    "Assume that we receive updated average temperature forecasts and demand data every week and that your demand model is supposed to provide regularly updated forecasts for customers delivered through an online portal."
   ]
  },
  {
   "cell_type": "markdown",
   "id": "cc58f3f0",
   "metadata": {},
   "source": [
    "## The steps to solve the problem:\n",
    "\n",
    "1. Get historical weekly temperature data of south Carolina from open data source\n",
    "2. Interplate weekly demand based on historical monthly demand (It will be great if we can get weekly demand directly)\n",
    "3. Build a prediction model based on weekly data\n",
    "4. Implement an auto ML pipeline, such as applying prefect framework, to automatically fetch data, make prediction, and ingest the result. "
   ]
  },
  {
   "cell_type": "code",
   "execution_count": null,
   "id": "316397b5",
   "metadata": {},
   "outputs": [],
   "source": []
  }
 ],
 "metadata": {
  "kernelspec": {
   "display_name": "Python 3 (ipykernel)",
   "language": "python",
   "name": "python3"
  },
  "language_info": {
   "codemirror_mode": {
    "name": "ipython",
    "version": 3
   },
   "file_extension": ".py",
   "mimetype": "text/x-python",
   "name": "python",
   "nbconvert_exporter": "python",
   "pygments_lexer": "ipython3",
   "version": "3.8.6"
  }
 },
 "nbformat": 4,
 "nbformat_minor": 5
}
